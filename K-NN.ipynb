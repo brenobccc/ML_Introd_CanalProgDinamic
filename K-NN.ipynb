{
 "cells": [
  {
   "cell_type": "code",
   "execution_count": 7,
   "id": "becoming-mustang",
   "metadata": {},
   "outputs": [],
   "source": [
    "from sklearn.neighbors import KNeighborsClassifier\n",
    "from sklearn.datasets import load_iris\n",
    "from sklearn.model_selection import train_test_split"
   ]
  },
  {
   "cell_type": "code",
   "execution_count": 10,
   "id": "consistent-greenhouse",
   "metadata": {},
   "outputs": [],
   "source": [
    "X,y = load_iris(return_X_y=True)"
   ]
  },
  {
   "cell_type": "code",
   "execution_count": 14,
   "id": "rising-explanation",
   "metadata": {},
   "outputs": [],
   "source": [
    "X_train, X_test, y_train, y_test = train_test_split(X,y,test_size=0.30,random_state=13)#treinamento e teste"
   ]
  },
  {
   "cell_type": "code",
   "execution_count": 16,
   "id": "preliminary-camcorder",
   "metadata": {},
   "outputs": [],
   "source": [
    "n_neighbors=10#quantos vizinhos irei considerar"
   ]
  },
  {
   "cell_type": "code",
   "execution_count": 19,
   "id": "federal-remainder",
   "metadata": {},
   "outputs": [],
   "source": [
    "clf = KNeighborsClassifier(n_neighbors=n_neighbors)#instancio o modelo, passo o numero de vizinhos"
   ]
  },
  {
   "cell_type": "code",
   "execution_count": 22,
   "id": "renewable-compromise",
   "metadata": {},
   "outputs": [
    {
     "data": {
      "text/plain": [
       "KNeighborsClassifier(n_neighbors=10)"
      ]
     },
     "execution_count": 22,
     "metadata": {},
     "output_type": "execute_result"
    }
   ],
   "source": [
    "clf.fit(X_train,y_train)#rodando no conjunto de treinamento"
   ]
  },
  {
   "cell_type": "code",
   "execution_count": 25,
   "id": "frequent-excerpt",
   "metadata": {},
   "outputs": [],
   "source": [
    "y_pred = clf.predict(X_test)#predicao "
   ]
  },
  {
   "cell_type": "code",
   "execution_count": 27,
   "id": "bronze-finder",
   "metadata": {},
   "outputs": [
    {
     "name": "stdout",
     "output_type": "stream",
     "text": [
      "              precision    recall  f1-score   support\n",
      "\n",
      "           0       1.00      1.00      1.00        14\n",
      "           1       0.80      1.00      0.89        12\n",
      "           2       1.00      0.84      0.91        19\n",
      "\n",
      "    accuracy                           0.93        45\n",
      "   macro avg       0.93      0.95      0.93        45\n",
      "weighted avg       0.95      0.93      0.93        45\n",
      "\n"
     ]
    }
   ],
   "source": [
    "from sklearn.metrics import classification_report\n",
    "print(classification_report(y_test, y_pred))"
   ]
  }
 ],
 "metadata": {
  "kernelspec": {
   "display_name": "Python 3",
   "language": "python",
   "name": "python3"
  },
  "language_info": {
   "codemirror_mode": {
    "name": "ipython",
    "version": 3
   },
   "file_extension": ".py",
   "mimetype": "text/x-python",
   "name": "python",
   "nbconvert_exporter": "python",
   "pygments_lexer": "ipython3",
   "version": "3.9.0"
  }
 },
 "nbformat": 4,
 "nbformat_minor": 5
}
